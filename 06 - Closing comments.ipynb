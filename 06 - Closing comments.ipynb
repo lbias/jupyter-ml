{
 "cells": [
  {
   "cell_type": "markdown",
   "metadata": {},
   "source": [
    "# Version control and nbdime\n",
    "- Do version control\n",
    "- JSON is not fun to version control\n",
    "- nbdime eases the pain"
   ]
  },
  {
   "cell_type": "markdown",
   "metadata": {},
   "source": [
    "# Run all etc\n",
    "- make sure your notebooks are reproducible\n",
    "- avoid cells that modify state\n",
    "- use \"restart kernel and run all\" to check if your code actually works"
   ]
  },
  {
   "cell_type": "markdown",
   "metadata": {},
   "source": [
    "# Handling multiple kernels\n",
    "- Check out the docs at https://ipython.readthedocs.io/en/latest/install/kernel_install.html"
   ]
  }
 ],
 "metadata": {
  "kernelspec": {
   "display_name": "Python 3",
   "language": "python",
   "name": "python3"
  },
  "language_info": {
   "codemirror_mode": {
    "name": "ipython",
    "version": 3
   },
   "file_extension": ".py",
   "mimetype": "text/x-python",
   "name": "python",
   "nbconvert_exporter": "python",
   "pygments_lexer": "ipython3",
   "version": "3.6.2"
  }
 },
 "nbformat": 4,
 "nbformat_minor": 2
}
